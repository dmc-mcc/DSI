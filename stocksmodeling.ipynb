{
  "nbformat": 4,
  "nbformat_minor": 0,
  "metadata": {
    "colab": {
      "provenance": [],
      "include_colab_link": true
    },
    "kernelspec": {
      "name": "python3",
      "display_name": "Python 3"
    },
    "language_info": {
      "name": "python"
    }
  },
  "cells": [
    {
      "cell_type": "markdown",
      "metadata": {
        "id": "view-in-github",
        "colab_type": "text"
      },
      "source": [
        "<a href=\"https://colab.research.google.com/github/dmc-mcc/DSI/blob/main/stocksmodeling.ipynb\" target=\"_parent\"><img src=\"https://colab.research.google.com/assets/colab-badge.svg\" alt=\"Open In Colab\"/></a>"
      ]
    },
    {
      "cell_type": "markdown",
      "source": [
        "Phase 3 is Predictive Modeling\n",
        "\n",
        "1. Define Nifty_Dir_Open =1/0 based on direction (dependent variable)\n",
        "\n",
        "(already derived in phase 2)\n",
        "\n",
        "2. Create data partition into train and test data sets (80/20)\n",
        "\n",
        "3. Run Binary Logistic Regression with Nifty Direction as dependent variable and previous day global market returns (and VIX) as independent variables. You may add more features such as previous day High/Low ratio for Nifty 50 and/or DJI\n",
        "\n",
        "4. Check multicollinearity and resolve if present\n",
        "\n",
        "5. Check which variables are significant (revise the model if needed)\n",
        "\n",
        "6. Obtain ROC curve and AUC for train data\n",
        "\n",
        "7. Obtain threshold to balance sensitivity and specificity\n",
        "\n",
        "Go to step 8 only if you are satisfied with model on train data\n",
        "\n",
        "8.Obtain ROC curve and AUC for test data (compare with step 6)\n",
        "\n",
        "9.Use above threshold to obtain sensitivity and specificity for test data\n",
        "\n",
        "(compare with step 7)\n",
        "\n",
        "10. Finalize the mode"
      ],
      "metadata": {
        "id": "x4cROLLUdria"
      }
    },
    {
      "cell_type": "code",
      "execution_count": null,
      "metadata": {
        "colab": {
          "base_uri": "https://localhost:8080/",
          "height": 74
        },
        "id": "zsvh7qbMNIAo",
        "outputId": "46bb0c20-22cd-436a-d772-fbdf855d4900"
      },
      "outputs": [
        {
          "output_type": "display_data",
          "data": {
            "text/plain": [
              "<IPython.core.display.HTML object>"
            ],
            "text/html": [
              "\n",
              "     <input type=\"file\" id=\"files-e150aaa7-6aab-4c1a-984f-2fdacfe2234d\" name=\"files[]\" multiple disabled\n",
              "        style=\"border:none\" />\n",
              "     <output id=\"result-e150aaa7-6aab-4c1a-984f-2fdacfe2234d\">\n",
              "      Upload widget is only available when the cell has been executed in the\n",
              "      current browser session. Please rerun this cell to enable.\n",
              "      </output>\n",
              "      <script>// Copyright 2017 Google LLC\n",
              "//\n",
              "// Licensed under the Apache License, Version 2.0 (the \"License\");\n",
              "// you may not use this file except in compliance with the License.\n",
              "// You may obtain a copy of the License at\n",
              "//\n",
              "//      http://www.apache.org/licenses/LICENSE-2.0\n",
              "//\n",
              "// Unless required by applicable law or agreed to in writing, software\n",
              "// distributed under the License is distributed on an \"AS IS\" BASIS,\n",
              "// WITHOUT WARRANTIES OR CONDITIONS OF ANY KIND, either express or implied.\n",
              "// See the License for the specific language governing permissions and\n",
              "// limitations under the License.\n",
              "\n",
              "/**\n",
              " * @fileoverview Helpers for google.colab Python module.\n",
              " */\n",
              "(function(scope) {\n",
              "function span(text, styleAttributes = {}) {\n",
              "  const element = document.createElement('span');\n",
              "  element.textContent = text;\n",
              "  for (const key of Object.keys(styleAttributes)) {\n",
              "    element.style[key] = styleAttributes[key];\n",
              "  }\n",
              "  return element;\n",
              "}\n",
              "\n",
              "// Max number of bytes which will be uploaded at a time.\n",
              "const MAX_PAYLOAD_SIZE = 100 * 1024;\n",
              "\n",
              "function _uploadFiles(inputId, outputId) {\n",
              "  const steps = uploadFilesStep(inputId, outputId);\n",
              "  const outputElement = document.getElementById(outputId);\n",
              "  // Cache steps on the outputElement to make it available for the next call\n",
              "  // to uploadFilesContinue from Python.\n",
              "  outputElement.steps = steps;\n",
              "\n",
              "  return _uploadFilesContinue(outputId);\n",
              "}\n",
              "\n",
              "// This is roughly an async generator (not supported in the browser yet),\n",
              "// where there are multiple asynchronous steps and the Python side is going\n",
              "// to poll for completion of each step.\n",
              "// This uses a Promise to block the python side on completion of each step,\n",
              "// then passes the result of the previous step as the input to the next step.\n",
              "function _uploadFilesContinue(outputId) {\n",
              "  const outputElement = document.getElementById(outputId);\n",
              "  const steps = outputElement.steps;\n",
              "\n",
              "  const next = steps.next(outputElement.lastPromiseValue);\n",
              "  return Promise.resolve(next.value.promise).then((value) => {\n",
              "    // Cache the last promise value to make it available to the next\n",
              "    // step of the generator.\n",
              "    outputElement.lastPromiseValue = value;\n",
              "    return next.value.response;\n",
              "  });\n",
              "}\n",
              "\n",
              "/**\n",
              " * Generator function which is called between each async step of the upload\n",
              " * process.\n",
              " * @param {string} inputId Element ID of the input file picker element.\n",
              " * @param {string} outputId Element ID of the output display.\n",
              " * @return {!Iterable<!Object>} Iterable of next steps.\n",
              " */\n",
              "function* uploadFilesStep(inputId, outputId) {\n",
              "  const inputElement = document.getElementById(inputId);\n",
              "  inputElement.disabled = false;\n",
              "\n",
              "  const outputElement = document.getElementById(outputId);\n",
              "  outputElement.innerHTML = '';\n",
              "\n",
              "  const pickedPromise = new Promise((resolve) => {\n",
              "    inputElement.addEventListener('change', (e) => {\n",
              "      resolve(e.target.files);\n",
              "    });\n",
              "  });\n",
              "\n",
              "  const cancel = document.createElement('button');\n",
              "  inputElement.parentElement.appendChild(cancel);\n",
              "  cancel.textContent = 'Cancel upload';\n",
              "  const cancelPromise = new Promise((resolve) => {\n",
              "    cancel.onclick = () => {\n",
              "      resolve(null);\n",
              "    };\n",
              "  });\n",
              "\n",
              "  // Wait for the user to pick the files.\n",
              "  const files = yield {\n",
              "    promise: Promise.race([pickedPromise, cancelPromise]),\n",
              "    response: {\n",
              "      action: 'starting',\n",
              "    }\n",
              "  };\n",
              "\n",
              "  cancel.remove();\n",
              "\n",
              "  // Disable the input element since further picks are not allowed.\n",
              "  inputElement.disabled = true;\n",
              "\n",
              "  if (!files) {\n",
              "    return {\n",
              "      response: {\n",
              "        action: 'complete',\n",
              "      }\n",
              "    };\n",
              "  }\n",
              "\n",
              "  for (const file of files) {\n",
              "    const li = document.createElement('li');\n",
              "    li.append(span(file.name, {fontWeight: 'bold'}));\n",
              "    li.append(span(\n",
              "        `(${file.type || 'n/a'}) - ${file.size} bytes, ` +\n",
              "        `last modified: ${\n",
              "            file.lastModifiedDate ? file.lastModifiedDate.toLocaleDateString() :\n",
              "                                    'n/a'} - `));\n",
              "    const percent = span('0% done');\n",
              "    li.appendChild(percent);\n",
              "\n",
              "    outputElement.appendChild(li);\n",
              "\n",
              "    const fileDataPromise = new Promise((resolve) => {\n",
              "      const reader = new FileReader();\n",
              "      reader.onload = (e) => {\n",
              "        resolve(e.target.result);\n",
              "      };\n",
              "      reader.readAsArrayBuffer(file);\n",
              "    });\n",
              "    // Wait for the data to be ready.\n",
              "    let fileData = yield {\n",
              "      promise: fileDataPromise,\n",
              "      response: {\n",
              "        action: 'continue',\n",
              "      }\n",
              "    };\n",
              "\n",
              "    // Use a chunked sending to avoid message size limits. See b/62115660.\n",
              "    let position = 0;\n",
              "    do {\n",
              "      const length = Math.min(fileData.byteLength - position, MAX_PAYLOAD_SIZE);\n",
              "      const chunk = new Uint8Array(fileData, position, length);\n",
              "      position += length;\n",
              "\n",
              "      const base64 = btoa(String.fromCharCode.apply(null, chunk));\n",
              "      yield {\n",
              "        response: {\n",
              "          action: 'append',\n",
              "          file: file.name,\n",
              "          data: base64,\n",
              "        },\n",
              "      };\n",
              "\n",
              "      let percentDone = fileData.byteLength === 0 ?\n",
              "          100 :\n",
              "          Math.round((position / fileData.byteLength) * 100);\n",
              "      percent.textContent = `${percentDone}% done`;\n",
              "\n",
              "    } while (position < fileData.byteLength);\n",
              "  }\n",
              "\n",
              "  // All done.\n",
              "  yield {\n",
              "    response: {\n",
              "      action: 'complete',\n",
              "    }\n",
              "  };\n",
              "}\n",
              "\n",
              "scope.google = scope.google || {};\n",
              "scope.google.colab = scope.google.colab || {};\n",
              "scope.google.colab._files = {\n",
              "  _uploadFiles,\n",
              "  _uploadFilesContinue,\n",
              "};\n",
              "})(self);\n",
              "</script> "
            ]
          },
          "metadata": {}
        },
        {
          "output_type": "stream",
          "name": "stdout",
          "text": [
            "Saving masterdata.csv to masterdata.csv\n"
          ]
        }
      ],
      "source": [
        "#importing and loading the data\n",
        "from google.colab import files\n",
        "uploaded = files.upload()"
      ]
    },
    {
      "cell_type": "code",
      "source": [
        "import pandas as pd\n",
        "df = pd.read_csv(\"masterdata.csv\")\n",
        "df"
      ],
      "metadata": {
        "colab": {
          "base_uri": "https://localhost:8080/",
          "height": 617
        },
        "id": "o78rlF7ONQw8",
        "outputId": "b37a589f-5172-4b38-b96a-fa4674e8a51b"
      },
      "execution_count": null,
      "outputs": [
        {
          "output_type": "execute_result",
          "data": {
            "text/plain": [
              "            Date      dow_Open      dow_High       dow_Low     dow_Close  \\\n",
              "0     2018-01-02  24850.449219  24941.919922  24825.550781  24922.679688   \n",
              "1     2018-01-03  24850.449219  24941.919922  24825.550781  24922.679688   \n",
              "2     2018-01-04  24964.859375  25105.960938  24963.269531  25075.130859   \n",
              "3     2018-01-05  25114.919922  25299.789062  25112.009766  25295.869141   \n",
              "4     2018-01-08  25308.400391  25311.990234  25235.410156  25283.000000   \n",
              "...          ...           ...           ...           ...           ...   \n",
              "1559  2023-12-25  37405.898438  37617.988281  37371.828125  37545.328125   \n",
              "1560  2023-12-26  37405.898438  37617.988281  37371.828125  37545.328125   \n",
              "1561  2023-12-27  37518.621094  37683.699219  37488.601562  37656.519531   \n",
              "1562  2023-12-28  37661.519531  37778.851562  37650.980469  37710.101562   \n",
              "1563  2023-12-29  37701.628906  37759.429688  37538.800781  37689.539062   \n",
              "\n",
              "      dow_AdjClose   dow_Volume  dow_return   nasdaq_Open   nasdaq_High  ...  \\\n",
              "0     24922.679688  456790000.0    0.397478   7017.069824   7069.149902  ...   \n",
              "1     24922.679688  456790000.0    0.397478   7017.069824   7069.149902  ...   \n",
              "2     25075.130859  403280000.0    0.611697   7089.500000   7098.049805  ...   \n",
              "3     25295.869141  358020000.0    0.880308   7105.740234   7137.040039  ...   \n",
              "4     25283.000000  341390000.0   -0.050874   7135.379883   7161.350098  ...   \n",
              "...            ...          ...         ...           ...           ...  ...   \n",
              "1559  37545.328125  212420000.0    0.426255  15028.690430  15101.179688  ...   \n",
              "1560  37545.328125  212420000.0    0.426255  15028.690430  15101.179688  ...   \n",
              "1561  37656.519531  245530000.0    0.296152  15089.660156  15114.080078  ...   \n",
              "1562  37710.101562  199550000.0    0.142292  15142.089844  15150.070312  ...   \n",
              "1563  37689.539062  234570000.0   -0.054528  15099.200195  15111.410156  ...   \n",
              "\n",
              "      wheat_Open  wheat_High  wheat_Low  wheat_Close  wheat_AdjClose  \\\n",
              "0         435.25      437.00     432.00       436.00          436.00   \n",
              "1         435.25      437.00     432.00       436.00          436.00   \n",
              "2         435.75      436.00     431.00       434.00          434.00   \n",
              "3         433.00      433.75     427.50       430.75          430.75   \n",
              "4         430.25      432.25     425.75       427.75          427.75   \n",
              "...          ...         ...        ...          ...             ...   \n",
              "1559      615.00      639.75     611.50       636.25          636.25   \n",
              "1560      615.00      639.75     611.50       636.25          636.25   \n",
              "1561      636.00      637.50     619.25       623.00          623.00   \n",
              "1562      624.25      636.25     621.75       631.50          631.50   \n",
              "1563      631.00      633.50     621.50       628.00          628.00   \n",
              "\n",
              "      wheat_Volume  wheat_return  month  quarter    year  \n",
              "0          70970.0      0.576701    1.0      1.0  2018.0  \n",
              "1          70970.0      0.576701    1.0      1.0  2018.0  \n",
              "2          58728.0     -0.458716    1.0      1.0  2018.0  \n",
              "3          62551.0     -0.748848    1.0      1.0  2018.0  \n",
              "4          71822.0     -0.696460    1.0      1.0  2018.0  \n",
              "...            ...           ...    ...      ...     ...  \n",
              "1559       40674.0      3.245436   12.0      4.0  2023.0  \n",
              "1560       40674.0      3.245436   12.0      4.0  2023.0  \n",
              "1561       38063.0     -2.082515   12.0      4.0  2023.0  \n",
              "1562       32254.0      1.364366   12.0      4.0  2023.0  \n",
              "1563       34752.0     -0.554236   12.0      4.0  2023.0  \n",
              "\n",
              "[1564 rows x 123 columns]"
            ],
            "text/html": [
              "\n",
              "  <div id=\"df-04ad2d88-fbc4-4139-b623-e9c9ed9bd545\" class=\"colab-df-container\">\n",
              "    <div>\n",
              "<style scoped>\n",
              "    .dataframe tbody tr th:only-of-type {\n",
              "        vertical-align: middle;\n",
              "    }\n",
              "\n",
              "    .dataframe tbody tr th {\n",
              "        vertical-align: top;\n",
              "    }\n",
              "\n",
              "    .dataframe thead th {\n",
              "        text-align: right;\n",
              "    }\n",
              "</style>\n",
              "<table border=\"1\" class=\"dataframe\">\n",
              "  <thead>\n",
              "    <tr style=\"text-align: right;\">\n",
              "      <th></th>\n",
              "      <th>Date</th>\n",
              "      <th>dow_Open</th>\n",
              "      <th>dow_High</th>\n",
              "      <th>dow_Low</th>\n",
              "      <th>dow_Close</th>\n",
              "      <th>dow_AdjClose</th>\n",
              "      <th>dow_Volume</th>\n",
              "      <th>dow_return</th>\n",
              "      <th>nasdaq_Open</th>\n",
              "      <th>nasdaq_High</th>\n",
              "      <th>...</th>\n",
              "      <th>wheat_Open</th>\n",
              "      <th>wheat_High</th>\n",
              "      <th>wheat_Low</th>\n",
              "      <th>wheat_Close</th>\n",
              "      <th>wheat_AdjClose</th>\n",
              "      <th>wheat_Volume</th>\n",
              "      <th>wheat_return</th>\n",
              "      <th>month</th>\n",
              "      <th>quarter</th>\n",
              "      <th>year</th>\n",
              "    </tr>\n",
              "  </thead>\n",
              "  <tbody>\n",
              "    <tr>\n",
              "      <th>0</th>\n",
              "      <td>2018-01-02</td>\n",
              "      <td>24850.449219</td>\n",
              "      <td>24941.919922</td>\n",
              "      <td>24825.550781</td>\n",
              "      <td>24922.679688</td>\n",
              "      <td>24922.679688</td>\n",
              "      <td>456790000.0</td>\n",
              "      <td>0.397478</td>\n",
              "      <td>7017.069824</td>\n",
              "      <td>7069.149902</td>\n",
              "      <td>...</td>\n",
              "      <td>435.25</td>\n",
              "      <td>437.00</td>\n",
              "      <td>432.00</td>\n",
              "      <td>436.00</td>\n",
              "      <td>436.00</td>\n",
              "      <td>70970.0</td>\n",
              "      <td>0.576701</td>\n",
              "      <td>1.0</td>\n",
              "      <td>1.0</td>\n",
              "      <td>2018.0</td>\n",
              "    </tr>\n",
              "    <tr>\n",
              "      <th>1</th>\n",
              "      <td>2018-01-03</td>\n",
              "      <td>24850.449219</td>\n",
              "      <td>24941.919922</td>\n",
              "      <td>24825.550781</td>\n",
              "      <td>24922.679688</td>\n",
              "      <td>24922.679688</td>\n",
              "      <td>456790000.0</td>\n",
              "      <td>0.397478</td>\n",
              "      <td>7017.069824</td>\n",
              "      <td>7069.149902</td>\n",
              "      <td>...</td>\n",
              "      <td>435.25</td>\n",
              "      <td>437.00</td>\n",
              "      <td>432.00</td>\n",
              "      <td>436.00</td>\n",
              "      <td>436.00</td>\n",
              "      <td>70970.0</td>\n",
              "      <td>0.576701</td>\n",
              "      <td>1.0</td>\n",
              "      <td>1.0</td>\n",
              "      <td>2018.0</td>\n",
              "    </tr>\n",
              "    <tr>\n",
              "      <th>2</th>\n",
              "      <td>2018-01-04</td>\n",
              "      <td>24964.859375</td>\n",
              "      <td>25105.960938</td>\n",
              "      <td>24963.269531</td>\n",
              "      <td>25075.130859</td>\n",
              "      <td>25075.130859</td>\n",
              "      <td>403280000.0</td>\n",
              "      <td>0.611697</td>\n",
              "      <td>7089.500000</td>\n",
              "      <td>7098.049805</td>\n",
              "      <td>...</td>\n",
              "      <td>435.75</td>\n",
              "      <td>436.00</td>\n",
              "      <td>431.00</td>\n",
              "      <td>434.00</td>\n",
              "      <td>434.00</td>\n",
              "      <td>58728.0</td>\n",
              "      <td>-0.458716</td>\n",
              "      <td>1.0</td>\n",
              "      <td>1.0</td>\n",
              "      <td>2018.0</td>\n",
              "    </tr>\n",
              "    <tr>\n",
              "      <th>3</th>\n",
              "      <td>2018-01-05</td>\n",
              "      <td>25114.919922</td>\n",
              "      <td>25299.789062</td>\n",
              "      <td>25112.009766</td>\n",
              "      <td>25295.869141</td>\n",
              "      <td>25295.869141</td>\n",
              "      <td>358020000.0</td>\n",
              "      <td>0.880308</td>\n",
              "      <td>7105.740234</td>\n",
              "      <td>7137.040039</td>\n",
              "      <td>...</td>\n",
              "      <td>433.00</td>\n",
              "      <td>433.75</td>\n",
              "      <td>427.50</td>\n",
              "      <td>430.75</td>\n",
              "      <td>430.75</td>\n",
              "      <td>62551.0</td>\n",
              "      <td>-0.748848</td>\n",
              "      <td>1.0</td>\n",
              "      <td>1.0</td>\n",
              "      <td>2018.0</td>\n",
              "    </tr>\n",
              "    <tr>\n",
              "      <th>4</th>\n",
              "      <td>2018-01-08</td>\n",
              "      <td>25308.400391</td>\n",
              "      <td>25311.990234</td>\n",
              "      <td>25235.410156</td>\n",
              "      <td>25283.000000</td>\n",
              "      <td>25283.000000</td>\n",
              "      <td>341390000.0</td>\n",
              "      <td>-0.050874</td>\n",
              "      <td>7135.379883</td>\n",
              "      <td>7161.350098</td>\n",
              "      <td>...</td>\n",
              "      <td>430.25</td>\n",
              "      <td>432.25</td>\n",
              "      <td>425.75</td>\n",
              "      <td>427.75</td>\n",
              "      <td>427.75</td>\n",
              "      <td>71822.0</td>\n",
              "      <td>-0.696460</td>\n",
              "      <td>1.0</td>\n",
              "      <td>1.0</td>\n",
              "      <td>2018.0</td>\n",
              "    </tr>\n",
              "    <tr>\n",
              "      <th>...</th>\n",
              "      <td>...</td>\n",
              "      <td>...</td>\n",
              "      <td>...</td>\n",
              "      <td>...</td>\n",
              "      <td>...</td>\n",
              "      <td>...</td>\n",
              "      <td>...</td>\n",
              "      <td>...</td>\n",
              "      <td>...</td>\n",
              "      <td>...</td>\n",
              "      <td>...</td>\n",
              "      <td>...</td>\n",
              "      <td>...</td>\n",
              "      <td>...</td>\n",
              "      <td>...</td>\n",
              "      <td>...</td>\n",
              "      <td>...</td>\n",
              "      <td>...</td>\n",
              "      <td>...</td>\n",
              "      <td>...</td>\n",
              "      <td>...</td>\n",
              "    </tr>\n",
              "    <tr>\n",
              "      <th>1559</th>\n",
              "      <td>2023-12-25</td>\n",
              "      <td>37405.898438</td>\n",
              "      <td>37617.988281</td>\n",
              "      <td>37371.828125</td>\n",
              "      <td>37545.328125</td>\n",
              "      <td>37545.328125</td>\n",
              "      <td>212420000.0</td>\n",
              "      <td>0.426255</td>\n",
              "      <td>15028.690430</td>\n",
              "      <td>15101.179688</td>\n",
              "      <td>...</td>\n",
              "      <td>615.00</td>\n",
              "      <td>639.75</td>\n",
              "      <td>611.50</td>\n",
              "      <td>636.25</td>\n",
              "      <td>636.25</td>\n",
              "      <td>40674.0</td>\n",
              "      <td>3.245436</td>\n",
              "      <td>12.0</td>\n",
              "      <td>4.0</td>\n",
              "      <td>2023.0</td>\n",
              "    </tr>\n",
              "    <tr>\n",
              "      <th>1560</th>\n",
              "      <td>2023-12-26</td>\n",
              "      <td>37405.898438</td>\n",
              "      <td>37617.988281</td>\n",
              "      <td>37371.828125</td>\n",
              "      <td>37545.328125</td>\n",
              "      <td>37545.328125</td>\n",
              "      <td>212420000.0</td>\n",
              "      <td>0.426255</td>\n",
              "      <td>15028.690430</td>\n",
              "      <td>15101.179688</td>\n",
              "      <td>...</td>\n",
              "      <td>615.00</td>\n",
              "      <td>639.75</td>\n",
              "      <td>611.50</td>\n",
              "      <td>636.25</td>\n",
              "      <td>636.25</td>\n",
              "      <td>40674.0</td>\n",
              "      <td>3.245436</td>\n",
              "      <td>12.0</td>\n",
              "      <td>4.0</td>\n",
              "      <td>2023.0</td>\n",
              "    </tr>\n",
              "    <tr>\n",
              "      <th>1561</th>\n",
              "      <td>2023-12-27</td>\n",
              "      <td>37518.621094</td>\n",
              "      <td>37683.699219</td>\n",
              "      <td>37488.601562</td>\n",
              "      <td>37656.519531</td>\n",
              "      <td>37656.519531</td>\n",
              "      <td>245530000.0</td>\n",
              "      <td>0.296152</td>\n",
              "      <td>15089.660156</td>\n",
              "      <td>15114.080078</td>\n",
              "      <td>...</td>\n",
              "      <td>636.00</td>\n",
              "      <td>637.50</td>\n",
              "      <td>619.25</td>\n",
              "      <td>623.00</td>\n",
              "      <td>623.00</td>\n",
              "      <td>38063.0</td>\n",
              "      <td>-2.082515</td>\n",
              "      <td>12.0</td>\n",
              "      <td>4.0</td>\n",
              "      <td>2023.0</td>\n",
              "    </tr>\n",
              "    <tr>\n",
              "      <th>1562</th>\n",
              "      <td>2023-12-28</td>\n",
              "      <td>37661.519531</td>\n",
              "      <td>37778.851562</td>\n",
              "      <td>37650.980469</td>\n",
              "      <td>37710.101562</td>\n",
              "      <td>37710.101562</td>\n",
              "      <td>199550000.0</td>\n",
              "      <td>0.142292</td>\n",
              "      <td>15142.089844</td>\n",
              "      <td>15150.070312</td>\n",
              "      <td>...</td>\n",
              "      <td>624.25</td>\n",
              "      <td>636.25</td>\n",
              "      <td>621.75</td>\n",
              "      <td>631.50</td>\n",
              "      <td>631.50</td>\n",
              "      <td>32254.0</td>\n",
              "      <td>1.364366</td>\n",
              "      <td>12.0</td>\n",
              "      <td>4.0</td>\n",
              "      <td>2023.0</td>\n",
              "    </tr>\n",
              "    <tr>\n",
              "      <th>1563</th>\n",
              "      <td>2023-12-29</td>\n",
              "      <td>37701.628906</td>\n",
              "      <td>37759.429688</td>\n",
              "      <td>37538.800781</td>\n",
              "      <td>37689.539062</td>\n",
              "      <td>37689.539062</td>\n",
              "      <td>234570000.0</td>\n",
              "      <td>-0.054528</td>\n",
              "      <td>15099.200195</td>\n",
              "      <td>15111.410156</td>\n",
              "      <td>...</td>\n",
              "      <td>631.00</td>\n",
              "      <td>633.50</td>\n",
              "      <td>621.50</td>\n",
              "      <td>628.00</td>\n",
              "      <td>628.00</td>\n",
              "      <td>34752.0</td>\n",
              "      <td>-0.554236</td>\n",
              "      <td>12.0</td>\n",
              "      <td>4.0</td>\n",
              "      <td>2023.0</td>\n",
              "    </tr>\n",
              "  </tbody>\n",
              "</table>\n",
              "<p>1564 rows × 123 columns</p>\n",
              "</div>\n",
              "    <div class=\"colab-df-buttons\">\n",
              "\n",
              "  <div class=\"colab-df-container\">\n",
              "    <button class=\"colab-df-convert\" onclick=\"convertToInteractive('df-04ad2d88-fbc4-4139-b623-e9c9ed9bd545')\"\n",
              "            title=\"Convert this dataframe to an interactive table.\"\n",
              "            style=\"display:none;\">\n",
              "\n",
              "  <svg xmlns=\"http://www.w3.org/2000/svg\" height=\"24px\" viewBox=\"0 -960 960 960\">\n",
              "    <path d=\"M120-120v-720h720v720H120Zm60-500h600v-160H180v160Zm220 220h160v-160H400v160Zm0 220h160v-160H400v160ZM180-400h160v-160H180v160Zm440 0h160v-160H620v160ZM180-180h160v-160H180v160Zm440 0h160v-160H620v160Z\"/>\n",
              "  </svg>\n",
              "    </button>\n",
              "\n",
              "  <style>\n",
              "    .colab-df-container {\n",
              "      display:flex;\n",
              "      gap: 12px;\n",
              "    }\n",
              "\n",
              "    .colab-df-convert {\n",
              "      background-color: #E8F0FE;\n",
              "      border: none;\n",
              "      border-radius: 50%;\n",
              "      cursor: pointer;\n",
              "      display: none;\n",
              "      fill: #1967D2;\n",
              "      height: 32px;\n",
              "      padding: 0 0 0 0;\n",
              "      width: 32px;\n",
              "    }\n",
              "\n",
              "    .colab-df-convert:hover {\n",
              "      background-color: #E2EBFA;\n",
              "      box-shadow: 0px 1px 2px rgba(60, 64, 67, 0.3), 0px 1px 3px 1px rgba(60, 64, 67, 0.15);\n",
              "      fill: #174EA6;\n",
              "    }\n",
              "\n",
              "    .colab-df-buttons div {\n",
              "      margin-bottom: 4px;\n",
              "    }\n",
              "\n",
              "    [theme=dark] .colab-df-convert {\n",
              "      background-color: #3B4455;\n",
              "      fill: #D2E3FC;\n",
              "    }\n",
              "\n",
              "    [theme=dark] .colab-df-convert:hover {\n",
              "      background-color: #434B5C;\n",
              "      box-shadow: 0px 1px 3px 1px rgba(0, 0, 0, 0.15);\n",
              "      filter: drop-shadow(0px 1px 2px rgba(0, 0, 0, 0.3));\n",
              "      fill: #FFFFFF;\n",
              "    }\n",
              "  </style>\n",
              "\n",
              "    <script>\n",
              "      const buttonEl =\n",
              "        document.querySelector('#df-04ad2d88-fbc4-4139-b623-e9c9ed9bd545 button.colab-df-convert');\n",
              "      buttonEl.style.display =\n",
              "        google.colab.kernel.accessAllowed ? 'block' : 'none';\n",
              "\n",
              "      async function convertToInteractive(key) {\n",
              "        const element = document.querySelector('#df-04ad2d88-fbc4-4139-b623-e9c9ed9bd545');\n",
              "        const dataTable =\n",
              "          await google.colab.kernel.invokeFunction('convertToInteractive',\n",
              "                                                    [key], {});\n",
              "        if (!dataTable) return;\n",
              "\n",
              "        const docLinkHtml = 'Like what you see? Visit the ' +\n",
              "          '<a target=\"_blank\" href=https://colab.research.google.com/notebooks/data_table.ipynb>data table notebook</a>'\n",
              "          + ' to learn more about interactive tables.';\n",
              "        element.innerHTML = '';\n",
              "        dataTable['output_type'] = 'display_data';\n",
              "        await google.colab.output.renderOutput(dataTable, element);\n",
              "        const docLink = document.createElement('div');\n",
              "        docLink.innerHTML = docLinkHtml;\n",
              "        element.appendChild(docLink);\n",
              "      }\n",
              "    </script>\n",
              "  </div>\n",
              "\n",
              "\n",
              "<div id=\"df-669586ba-0460-4c13-ac74-3d72ed55f3f4\">\n",
              "  <button class=\"colab-df-quickchart\" onclick=\"quickchart('df-669586ba-0460-4c13-ac74-3d72ed55f3f4')\"\n",
              "            title=\"Suggest charts\"\n",
              "            style=\"display:none;\">\n",
              "\n",
              "<svg xmlns=\"http://www.w3.org/2000/svg\" height=\"24px\"viewBox=\"0 0 24 24\"\n",
              "     width=\"24px\">\n",
              "    <g>\n",
              "        <path d=\"M19 3H5c-1.1 0-2 .9-2 2v14c0 1.1.9 2 2 2h14c1.1 0 2-.9 2-2V5c0-1.1-.9-2-2-2zM9 17H7v-7h2v7zm4 0h-2V7h2v10zm4 0h-2v-4h2v4z\"/>\n",
              "    </g>\n",
              "</svg>\n",
              "  </button>\n",
              "\n",
              "<style>\n",
              "  .colab-df-quickchart {\n",
              "      --bg-color: #E8F0FE;\n",
              "      --fill-color: #1967D2;\n",
              "      --hover-bg-color: #E2EBFA;\n",
              "      --hover-fill-color: #174EA6;\n",
              "      --disabled-fill-color: #AAA;\n",
              "      --disabled-bg-color: #DDD;\n",
              "  }\n",
              "\n",
              "  [theme=dark] .colab-df-quickchart {\n",
              "      --bg-color: #3B4455;\n",
              "      --fill-color: #D2E3FC;\n",
              "      --hover-bg-color: #434B5C;\n",
              "      --hover-fill-color: #FFFFFF;\n",
              "      --disabled-bg-color: #3B4455;\n",
              "      --disabled-fill-color: #666;\n",
              "  }\n",
              "\n",
              "  .colab-df-quickchart {\n",
              "    background-color: var(--bg-color);\n",
              "    border: none;\n",
              "    border-radius: 50%;\n",
              "    cursor: pointer;\n",
              "    display: none;\n",
              "    fill: var(--fill-color);\n",
              "    height: 32px;\n",
              "    padding: 0;\n",
              "    width: 32px;\n",
              "  }\n",
              "\n",
              "  .colab-df-quickchart:hover {\n",
              "    background-color: var(--hover-bg-color);\n",
              "    box-shadow: 0 1px 2px rgba(60, 64, 67, 0.3), 0 1px 3px 1px rgba(60, 64, 67, 0.15);\n",
              "    fill: var(--button-hover-fill-color);\n",
              "  }\n",
              "\n",
              "  .colab-df-quickchart-complete:disabled,\n",
              "  .colab-df-quickchart-complete:disabled:hover {\n",
              "    background-color: var(--disabled-bg-color);\n",
              "    fill: var(--disabled-fill-color);\n",
              "    box-shadow: none;\n",
              "  }\n",
              "\n",
              "  .colab-df-spinner {\n",
              "    border: 2px solid var(--fill-color);\n",
              "    border-color: transparent;\n",
              "    border-bottom-color: var(--fill-color);\n",
              "    animation:\n",
              "      spin 1s steps(1) infinite;\n",
              "  }\n",
              "\n",
              "  @keyframes spin {\n",
              "    0% {\n",
              "      border-color: transparent;\n",
              "      border-bottom-color: var(--fill-color);\n",
              "      border-left-color: var(--fill-color);\n",
              "    }\n",
              "    20% {\n",
              "      border-color: transparent;\n",
              "      border-left-color: var(--fill-color);\n",
              "      border-top-color: var(--fill-color);\n",
              "    }\n",
              "    30% {\n",
              "      border-color: transparent;\n",
              "      border-left-color: var(--fill-color);\n",
              "      border-top-color: var(--fill-color);\n",
              "      border-right-color: var(--fill-color);\n",
              "    }\n",
              "    40% {\n",
              "      border-color: transparent;\n",
              "      border-right-color: var(--fill-color);\n",
              "      border-top-color: var(--fill-color);\n",
              "    }\n",
              "    60% {\n",
              "      border-color: transparent;\n",
              "      border-right-color: var(--fill-color);\n",
              "    }\n",
              "    80% {\n",
              "      border-color: transparent;\n",
              "      border-right-color: var(--fill-color);\n",
              "      border-bottom-color: var(--fill-color);\n",
              "    }\n",
              "    90% {\n",
              "      border-color: transparent;\n",
              "      border-bottom-color: var(--fill-color);\n",
              "    }\n",
              "  }\n",
              "</style>\n",
              "\n",
              "  <script>\n",
              "    async function quickchart(key) {\n",
              "      const quickchartButtonEl =\n",
              "        document.querySelector('#' + key + ' button');\n",
              "      quickchartButtonEl.disabled = true;  // To prevent multiple clicks.\n",
              "      quickchartButtonEl.classList.add('colab-df-spinner');\n",
              "      try {\n",
              "        const charts = await google.colab.kernel.invokeFunction(\n",
              "            'suggestCharts', [key], {});\n",
              "      } catch (error) {\n",
              "        console.error('Error during call to suggestCharts:', error);\n",
              "      }\n",
              "      quickchartButtonEl.classList.remove('colab-df-spinner');\n",
              "      quickchartButtonEl.classList.add('colab-df-quickchart-complete');\n",
              "    }\n",
              "    (() => {\n",
              "      let quickchartButtonEl =\n",
              "        document.querySelector('#df-669586ba-0460-4c13-ac74-3d72ed55f3f4 button');\n",
              "      quickchartButtonEl.style.display =\n",
              "        google.colab.kernel.accessAllowed ? 'block' : 'none';\n",
              "    })();\n",
              "  </script>\n",
              "</div>\n",
              "    </div>\n",
              "  </div>\n"
            ],
            "application/vnd.google.colaboratory.intrinsic+json": {
              "type": "dataframe",
              "variable_name": "df"
            }
          },
          "metadata": {},
          "execution_count": 76
        }
      ]
    },
    {
      "cell_type": "code",
      "source": [
        "# Print column names as a list\n",
        "print(list(df.columns))\n"
      ],
      "metadata": {
        "colab": {
          "base_uri": "https://localhost:8080/"
        },
        "id": "ZBAg_nxEN4MR",
        "outputId": "9dbbf3b9-39fd-43a4-def5-70faa374b73a"
      },
      "execution_count": null,
      "outputs": [
        {
          "output_type": "stream",
          "name": "stdout",
          "text": [
            "['Date', 'dow_Open', 'dow_High', 'dow_Low', 'dow_Close', 'dow_AdjClose', 'dow_Volume', 'dow_return', 'nasdaq_Open', 'nasdaq_High', 'nasdaq_Low', 'nasdaq_Close', 'nasdaq_AdjClose', 'nasdaq_Volume', 'nasdaq_return', 'nifty_Open', 'nifty_High', 'nifty_Low', 'nifty_Close', 'nifty_AdjClose', 'nifty_Volume', 'nifty_return', 'dax_Open', 'dax_High', 'dax_Low', 'dax_Close', 'dax_AdjClose', 'dax_Volume', 'dax_return', 'hangseng_Open', 'hangseng_High', 'hangseng_Low', 'hangseng_Close', 'hangseng_AdjClose', 'hangseng_Volume', 'hangseng_return', 'nikkei_Open', 'nikkei_High', 'nikkei_Low', 'nikkei_Close', 'nikkei_AdjClose', 'nikkei_Volume', 'nikkei_return', 'vix_Open', 'vix_High', 'vix_Low', 'vix_Close', 'vix_AdjClose', 'vix_Volume', 'vix_return', 'EUR_USD_Open', 'EUR_USD_High', 'EUR_USD_Low', 'EUR_USD_Close', 'EUR_USD_AdjClose', 'EUR_USD_Volume', 'EUR_USD_return', 'GBP_USD_Open', 'GBP_USD_High', 'GBP_USD_Low', 'GBP_USD_Close', 'GBP_USD_AdjClose', 'GBP_USD_Volume', 'GBP_USD_return', 'EUR_GBP_Open', 'EUR_GBP_High', 'EUR_GBP_Low', 'EUR_GBP_Close', 'EUR_GBP_AdjClose', 'EUR_GBP_Volume', 'EUR_GBP_return', 'USD_JPY_Open', 'USD_JPY_High', 'USD_JPY_Low', 'USD_JPY_Close', 'USD_JPY_AdjClose', 'USD_JPY_Volume', 'USD_JPY_return', 'USD_INR_Open', 'USD_INR_High', 'USD_INR_Low', 'USD_INR_Close', 'USD_INR_AdjClose', 'USD_INR_Volume', 'USD_INR_return', 'USD_HKD_Open', 'USD_HKD_High', 'USD_HKD_Low', 'USD_HKD_Close', 'USD_HKD_AdjClose', 'USD_HKD_Volume', 'USD_HKD_return', 'gold_Open', 'gold_High', 'gold_Low', 'gold_Close', 'gold_AdjClose', 'gold_Volume', 'gold_return', 'silver_Open', 'silver_High', 'silver_Low', 'silver_Close', 'silver_AdjClose', 'silver_Volume', 'silver_return', 'crude_Open', 'crude_High', 'crude_Low', 'crude_Close', 'crude_AdjClose', 'crude_Volume', 'crude_return', 'wheat_Open', 'wheat_High', 'wheat_Low', 'wheat_Close', 'wheat_AdjClose', 'wheat_Volume', 'wheat_return', 'month', 'quarter', 'year']\n"
          ]
        }
      ]
    },
    {
      "cell_type": "markdown",
      "source": [
        "1. Define Nifty_Dir_Open =1/0 based on direction (dependent variable)\n",
        "\n",
        "## I maybe having a wrong dataset coz i cant find the open direction column hence the  cell below##"
      ],
      "metadata": {
        "id": "wz7_zxaqdyDN"
      }
    },
    {
      "cell_type": "code",
      "source": [
        "\n",
        "df['Nifty_Dir_Open'] = (df['nifty_Open'] > df['nifty_Close'].shift(1)).astype(int)\n"
      ],
      "metadata": {
        "id": "NYDAsAUmNa8Z"
      },
      "execution_count": null,
      "outputs": []
    },
    {
      "cell_type": "markdown",
      "source": [
        "2. Create data partition into train and test data sets (80/20)"
      ],
      "metadata": {
        "id": "2XiGxTTKeKyU"
      }
    },
    {
      "cell_type": "code",
      "source": [
        "from sklearn.model_selection import train_test_split\n",
        "\n",
        "# Define the features (model)and target\n",
        "model1 = ['dow_return', 'nasdaq_return', 'dax_return', 'hangseng_return', 'nikkei_return', 'vix_return','EUR_USD_return','GBP_USD_return','EUR_GBP_return','USD_JPY_return','USD_INR_return','USD_HKD_return','gold_return','silver_return','crude_return', 'wheat_return']\n",
        "X = df[model1]\n",
        "Y = df['Nifty_Dir_Open']\n",
        "\n",
        "# Split the data\n",
        "X_train, X_test, Y_train, Y_test = train_test_split(X, Y, test_size=0.2, random_state=42)\n"
      ],
      "metadata": {
        "id": "C9jOxZJ4NoR4"
      },
      "execution_count": null,
      "outputs": []
    },
    {
      "cell_type": "markdown",
      "source": [
        "3. Run Binary Logistic Regression with Nifty Direction as dependent variable and previous day global market returns (and VIX) as independent variables. You may add more features such as previous day High/Low ratio for Nifty 50 and/or DJI"
      ],
      "metadata": {
        "id": "of434D9-ePtH"
      }
    },
    {
      "cell_type": "code",
      "source": [
        "import statsmodels.api as sm\n",
        "\n",
        "# Add a constant to the independent variables\n",
        "X_train_sm = sm.add_constant(X_train)\n",
        "\n",
        "# Fit the logistic regression model\n",
        "logit_model = sm.Logit(Y_train, X_train_sm)\n",
        "result = logit_model.fit()\n",
        "\n"
      ],
      "metadata": {
        "colab": {
          "base_uri": "https://localhost:8080/"
        },
        "id": "NAcYBm1hOo1t",
        "outputId": "ad339161-5f45-46f8-dbc0-0adda81a2f45"
      },
      "execution_count": null,
      "outputs": [
        {
          "output_type": "stream",
          "name": "stdout",
          "text": [
            "Optimization terminated successfully.\n",
            "         Current function value: 0.491603\n",
            "         Iterations 8\n"
          ]
        }
      ]
    },
    {
      "cell_type": "markdown",
      "source": [
        "4. Check multicollinearity and resolve if present"
      ],
      "metadata": {
        "id": "qB_hAdaIeeat"
      }
    },
    {
      "cell_type": "code",
      "source": [
        "from statsmodels.stats.outliers_influence import variance_inflation_factor\n",
        "\n",
        "# Calculate VIF for each feature\n",
        "vif_data = pd.DataFrame()\n",
        "vif_data[\"model1\"] = X_train.columns\n",
        "vif_data[\"VIF\"] = [variance_inflation_factor(X_train.values, i) for i in range(len(X_train.columns))]\n",
        "\n",
        "print(vif_data)\n"
      ],
      "metadata": {
        "colab": {
          "base_uri": "https://localhost:8080/"
        },
        "id": "oUzpmxZgO-Vd",
        "outputId": "b1ec8154-0813-48a7-ca50-eca91303ef35"
      },
      "execution_count": null,
      "outputs": [
        {
          "output_type": "stream",
          "name": "stdout",
          "text": [
            "             model1       VIF\n",
            "0        dow_return  4.456249\n",
            "1     nasdaq_return  3.901107\n",
            "2        dax_return  1.816905\n",
            "3   hangseng_return  1.359360\n",
            "4     nikkei_return  1.507235\n",
            "5        vix_return  1.918402\n",
            "6    EUR_USD_return  3.281181\n",
            "7    GBP_USD_return  4.011901\n",
            "8    EUR_GBP_return  2.107047\n",
            "9    USD_JPY_return  1.312675\n",
            "10   USD_INR_return  1.135840\n",
            "11   USD_HKD_return  1.027703\n",
            "12      gold_return  2.639775\n",
            "13    silver_return  2.744310\n",
            "14     crude_return  1.093091\n",
            "15     wheat_return  1.037222\n"
          ]
        }
      ]
    },
    {
      "cell_type": "markdown",
      "source": [
        "Comment:\n",
        "No Multicollineatity present as VIF < 5\n"
      ],
      "metadata": {
        "id": "23va5iRURK_h"
      }
    },
    {
      "cell_type": "markdown",
      "source": [
        "5. Check which variables are significant (revise the model if needed)"
      ],
      "metadata": {
        "id": "KB2gWDgdenIK"
      }
    },
    {
      "cell_type": "code",
      "source": [
        "print(result.summary())"
      ],
      "metadata": {
        "colab": {
          "base_uri": "https://localhost:8080/"
        },
        "id": "jTD1wbDGgtva",
        "outputId": "614e91ae-aa88-453e-c1ae-253c0d3a9afb"
      },
      "execution_count": null,
      "outputs": [
        {
          "output_type": "stream",
          "name": "stdout",
          "text": [
            "                           Logit Regression Results                           \n",
            "==============================================================================\n",
            "Dep. Variable:         Nifty_Dir_Open   No. Observations:                 1251\n",
            "Model:                          Logit   Df Residuals:                     1234\n",
            "Method:                           MLE   Df Model:                           16\n",
            "Date:                Tue, 04 Jun 2024   Pseudo R-squ.:                  0.1985\n",
            "Time:                        23:08:32   Log-Likelihood:                -615.00\n",
            "converged:                       True   LL-Null:                       -767.30\n",
            "Covariance Type:            nonrobust   LLR p-value:                 2.829e-55\n",
            "===================================================================================\n",
            "                      coef    std err          z      P>|z|      [0.025      0.975]\n",
            "-----------------------------------------------------------------------------------\n",
            "const               1.0732      0.076     14.091      0.000       0.924       1.222\n",
            "dow_return          0.0639      0.122      0.522      0.601      -0.176       0.303\n",
            "nasdaq_return      -0.1324      0.093     -1.428      0.153      -0.314       0.049\n",
            "dax_return          0.2017      0.078      2.574      0.010       0.048       0.355\n",
            "hangseng_return     0.3107      0.059      5.240      0.000       0.194       0.427\n",
            "nikkei_return       0.6876      0.078      8.870      0.000       0.536       0.840\n",
            "vix_return          0.0022      0.011      0.191      0.848      -0.020       0.024\n",
            "EUR_USD_return     -2.1828      1.473     -1.482      0.138      -5.069       0.704\n",
            "GBP_USD_return     -2.0168      1.466     -1.376      0.169      -4.889       0.856\n",
            "EUR_GBP_return     -2.0973      1.454     -1.442      0.149      -4.947       0.753\n",
            "USD_JPY_return     -0.2410      0.157     -1.535      0.125      -0.549       0.067\n",
            "USD_INR_return     -0.8844      0.185     -4.776      0.000      -1.247      -0.522\n",
            "USD_HKD_return     -0.8924      1.608     -0.555      0.579      -4.044       2.260\n",
            "gold_return         0.0468      0.126      0.370      0.711      -0.201       0.294\n",
            "silver_return       0.0141      0.062      0.226      0.821      -0.108       0.137\n",
            "crude_return        0.0011      0.020      0.056      0.956      -0.038       0.040\n",
            "wheat_return        0.0451      0.035      1.298      0.194      -0.023       0.113\n",
            "===================================================================================\n"
          ]
        }
      ]
    },
    {
      "cell_type": "markdown",
      "source": [
        "Comment: significant variables are:\n",
        "\n",
        "\n",
        "dax_return\n",
        "\n",
        "hangseng_return\n",
        "\n",
        "nikkei_return\n",
        "\n",
        "USD_INR_return\n"
      ],
      "metadata": {
        "id": "zHBRDpE-QWaj"
      }
    },
    {
      "cell_type": "markdown",
      "source": [
        "6. Obtain ROC curve and AUC for train data"
      ],
      "metadata": {
        "id": "o2qMRcShfFqo"
      }
    },
    {
      "cell_type": "code",
      "source": [
        "from sklearn.metrics import roc_curve, auc\n",
        "import matplotlib.pyplot as plt\n",
        "\n",
        "# Predict probabilities\n",
        "Y_train_pred_proba = result.predict(X_train_sm)\n",
        "\n",
        "# Calculate ROC curve\n",
        "fpr, tpr, thresholds = roc_curve(Y_train, Y_train_pred_proba)\n",
        "roc_auc = auc(fpr, tpr)\n",
        "\n",
        "# Plot ROC curve\n",
        "plt.figure()\n",
        "plt.plot(fpr, tpr, label='Train ROC curve (area = %0.2f)' % roc_auc)\n",
        "plt.plot([0, 1], [0, 1], 'k--')\n",
        "plt.xlabel('False Positive Rate')\n",
        "plt.ylabel('True Positive Rate')\n",
        "plt.title('ROC Curve Train data')\n",
        "plt.legend(loc='best')\n",
        "plt.show()\n"
      ],
      "metadata": {
        "colab": {
          "base_uri": "https://localhost:8080/",
          "height": 472
        },
        "id": "NIUezXeyRGQr",
        "outputId": "71c6f300-4218-4410-bb27-04ea59e6eb5d"
      },
      "execution_count": null,
      "outputs": [
        {
          "output_type": "display_data",
          "data": {
            "text/plain": [
              "<Figure size 640x480 with 1 Axes>"
            ],
            "image/png": "[encoded data removed]"
          },
          "metadata": {}
        }
      ]
    },
    {
      "cell_type": "markdown",
      "source": [
        "7. Obtain threshold to balance sensitivity and specificity\n",
        "\n",
        "Go to step 8 only if you are satisfied with model on train data"
      ],
      "metadata": {
        "id": "J4mXIqrmfK4R"
      }
    },
    {
      "cell_type": "code",
      "source": [
        "\n",
        "# Calculate the point where the difference between TPR and FPR is minimum\n",
        "optimal_idx = np.argmax(tpr - fpr)\n",
        "optimal_threshold = thresholds[optimal_idx]\n",
        "\n",
        "print('Optimal Threshold:', optimal_threshold)\n"
      ],
      "metadata": {
        "colab": {
          "base_uri": "https://localhost:8080/"
        },
        "id": "KYzhihQLSF6o",
        "outputId": "415c9404-4e1b-4c7b-a1b4-31939dc6b10e"
      },
      "execution_count": null,
      "outputs": [
        {
          "output_type": "stream",
          "name": "stdout",
          "text": [
            "Optimal Threshold: 0.6966880856910626\n"
          ]
        }
      ]
    },
    {
      "cell_type": "markdown",
      "source": [
        "9.Use above threshold to obtain sensitivity and specificity for test data\n",
        "\n",
        "(compare with step 7)"
      ],
      "metadata": {
        "id": "VvzQ5DPxfj0P"
      }
    },
    {
      "cell_type": "code",
      "source": [
        "from sklearn.metrics import confusion_matrix\n",
        "\n",
        "# Classify predictions based on the optimal threshold\n",
        "Y_train_pred_class = (Y_train_pred_proba >= optimal_threshold).astype(int)\n",
        "\n",
        "# Calculate confusion matrix\n",
        "conf_matrix = confusion_matrix(Y_train, Y_train_pred_class)\n",
        "sensitivity = conf_matrix[1, 1] / (conf_matrix[1, 0] + conf_matrix[1, 1])\n",
        "specificity = conf_matrix[0, 0] / (conf_matrix[0, 0] + conf_matrix[0, 1])\n",
        "\n",
        "print('Sensitivity:', sensitivity)\n",
        "print('Specificity:', specificity)"
      ],
      "metadata": {
        "colab": {
          "base_uri": "https://localhost:8080/"
        },
        "id": "8-ysMSl_VhUS",
        "outputId": "63a99668-59a4-4101-b5ab-e0fae4abc4a4"
      },
      "execution_count": null,
      "outputs": [
        {
          "output_type": "stream",
          "name": "stdout",
          "text": [
            "Sensitivity: 0.7431192660550459\n",
            "Specificity: 0.7203166226912929\n"
          ]
        }
      ]
    },
    {
      "cell_type": "code",
      "source": [
        "# Print the classification report\n",
        "from sklearn.metrics import roc_curve, auc, confusion_matrix, classification_report\n",
        "\n",
        "class_report = classification_report(Y_train, Y_train_pred_class)\n",
        "print('Classification Report:')\n",
        "print(class_report)"
      ],
      "metadata": {
        "colab": {
          "base_uri": "https://localhost:8080/"
        },
        "id": "g6tRM7E0VR1E",
        "outputId": "25d68eaf-c0b2-42b2-dd22-9b87e12ba39d"
      },
      "execution_count": null,
      "outputs": [
        {
          "output_type": "stream",
          "name": "stdout",
          "text": [
            "Classification Report:\n",
            "              precision    recall  f1-score   support\n",
            "\n",
            "           0       0.55      0.72      0.62       379\n",
            "           1       0.86      0.74      0.80       872\n",
            "\n",
            "    accuracy                           0.74      1251\n",
            "   macro avg       0.70      0.73      0.71      1251\n",
            "weighted avg       0.77      0.74      0.74      1251\n",
            "\n"
          ]
        }
      ]
    },
    {
      "cell_type": "markdown",
      "source": [
        "8.Obtain ROC curve and AUC for test data (compare with step 6)"
      ],
      "metadata": {
        "id": "Ky-bB6-sfcuV"
      }
    },
    {
      "cell_type": "code",
      "source": [
        "X_test_sm = sm.add_constant(X_test)\n",
        "\n",
        "# Predict probabilities\n",
        "Y_test_pred_proba = result.predict(X_test_sm)\n",
        "\n",
        "# Calculate ROC curve\n",
        "fpr_test, tpr_test, thresholds_test = roc_curve(Y_test, Y_test_pred_proba)\n",
        "roc_auc_test = auc(fpr_test, tpr_test)\n",
        "\n",
        "# Plot ROC curve\n",
        "plt.figure()\n",
        "plt.plot(fpr_test, tpr_test, label='Test ROC curve (area = %0.2f)' % roc_auc_test)\n",
        "plt.plot([0, 1], [0, 1], 'k--')\n",
        "plt.xlabel('False Positive Rate')\n",
        "plt.ylabel('True Positive Rate')\n",
        "plt.title('ROC Curve')\n",
        "plt.legend(loc='best')\n",
        "plt.show()\n"
      ],
      "metadata": {
        "colab": {
          "base_uri": "https://localhost:8080/",
          "height": 472
        },
        "id": "wqg_isceShQX",
        "outputId": "dfaac030-c393-4f74-9d3f-c6d110ceab21"
      },
      "execution_count": null,
      "outputs": [
        {
          "output_type": "display_data",
          "data": {
            "text/plain": [
              "<Figure size 640x480 with 1 Axes>"
            ],
            "image/png": "[encoded data removed]"
          },
          "metadata": {}
        }
      ]
    },
    {
      "cell_type": "code",
      "source": [
        "from sklearn.metrics import confusion_matrix\n",
        "\n",
        "# Classify predictions based on the optimal threshold\n",
        "Y_test_pred_class = (Y_test_pred_proba >= optimal_threshold).astype(int)\n",
        "\n",
        "# Calculate confusion matrix\n",
        "conf_matrix = confusion_matrix(Y_test, Y_test_pred_class)\n",
        "sensitivity = conf_matrix[1, 1] / (conf_matrix[1, 0] + conf_matrix[1, 1])\n",
        "specificity = conf_matrix[0, 0] / (conf_matrix[0, 0] + conf_matrix[0, 1])\n",
        "\n",
        "print('Sensitivity:', sensitivity)\n",
        "print('Specificity:', specificity)\n"
      ],
      "metadata": {
        "colab": {
          "base_uri": "https://localhost:8080/"
        },
        "id": "PMYLKcWiSkDE",
        "outputId": "90106309-95fa-4f79-9a1c-6f5f3a33b1f0"
      },
      "execution_count": null,
      "outputs": [
        {
          "output_type": "stream",
          "name": "stdout",
          "text": [
            "Sensitivity: 0.7185929648241206\n",
            "Specificity: 0.7192982456140351\n"
          ]
        }
      ]
    },
    {
      "cell_type": "code",
      "source": [
        "# Print the classification report for test data\n",
        "\n",
        "\n",
        "class_report = classification_report(Y_test, Y_test_pred_class)\n",
        "print('Classification Report:')\n",
        "print(class_report)"
      ],
      "metadata": {
        "colab": {
          "base_uri": "https://localhost:8080/"
        },
        "id": "bBpx8e4eSqYZ",
        "outputId": "e9319d3e-b3b4-499a-aa9e-3db11f576020"
      },
      "execution_count": null,
      "outputs": [
        {
          "output_type": "stream",
          "name": "stdout",
          "text": [
            "Classification Report:\n",
            "              precision    recall  f1-score   support\n",
            "\n",
            "           0       0.59      0.72      0.65       114\n",
            "           1       0.82      0.72      0.76       199\n",
            "\n",
            "    accuracy                           0.72       313\n",
            "   macro avg       0.71      0.72      0.71       313\n",
            "weighted avg       0.74      0.72      0.72       313\n",
            "\n"
          ]
        }
      ]
    },
    {
      "cell_type": "markdown",
      "source": [
        "Comment:\n",
        "\n",
        "The results for train and test data are quite close  i.e\n",
        "\n",
        "ROC for train = 0.79 with accuracy of 74%\n",
        "\n",
        "&\n",
        "\n",
        "for test =0.78. and with accuracy of 72%"
      ],
      "metadata": {
        "id": "UU99Depmi5jJ"
      }
    },
    {
      "cell_type": "markdown",
      "source": [
        "Model using only significant features & VIX"
      ],
      "metadata": {
        "id": "Ypisx8haSxzN"
      }
    },
    {
      "cell_type": "code",
      "source": [
        "# Define the features (model)and target\n",
        "model2 = ['dax_return', 'hangseng_return', 'nikkei_return', 'vix_return','USD_INR_return']\n",
        "x = df[model2]\n",
        "y = df['Nifty_Dir_Open']\n",
        "\n",
        "# Split the data\n",
        "x_train, x_test, y_train, y_test = train_test_split(x, y, test_size=0.2, random_state=42)"
      ],
      "metadata": {
        "id": "G_QYuG6DTULU"
      },
      "execution_count": null,
      "outputs": []
    },
    {
      "cell_type": "code",
      "source": [
        "# Add a constant to the independent variables\n",
        "x_train_sm = sm.add_constant(x_train)\n",
        "\n",
        "# Fit the logistic regression model\n",
        "logit_model = sm.Logit(y_train, x_train_sm)\n",
        "result = logit_model.fit()\n",
        "print(result.summary())"
      ],
      "metadata": {
        "colab": {
          "base_uri": "https://localhost:8080/"
        },
        "id": "Tt7xE95eXZkw",
        "outputId": "95306a06-fdc4-4dbf-d397-ee255c032d7c"
      },
      "execution_count": null,
      "outputs": [
        {
          "output_type": "stream",
          "name": "stdout",
          "text": [
            "Optimization terminated successfully.\n",
            "         Current function value: 0.497546\n",
            "         Iterations 6\n",
            "                           Logit Regression Results                           \n",
            "==============================================================================\n",
            "Dep. Variable:         Nifty_Dir_Open   No. Observations:                 1251\n",
            "Model:                          Logit   Df Residuals:                     1245\n",
            "Method:                           MLE   Df Model:                            5\n",
            "Date:                Tue, 04 Jun 2024   Pseudo R-squ.:                  0.1888\n",
            "Time:                        22:42:47   Log-Likelihood:                -622.43\n",
            "converged:                       True   LL-Null:                       -767.30\n",
            "Covariance Type:            nonrobust   LLR p-value:                 1.607e-60\n",
            "===================================================================================\n",
            "                      coef    std err          z      P>|z|      [0.025      0.975]\n",
            "-----------------------------------------------------------------------------------\n",
            "const               1.0533      0.075     14.123      0.000       0.907       1.199\n",
            "dax_return          0.1816      0.072      2.513      0.012       0.040       0.323\n",
            "hangseng_return     0.3159      0.058      5.437      0.000       0.202       0.430\n",
            "nikkei_return       0.6631      0.073      9.068      0.000       0.520       0.806\n",
            "vix_return          0.0072      0.009      0.841      0.400      -0.010       0.024\n",
            "USD_INR_return     -0.9935      0.175     -5.667      0.000      -1.337      -0.650\n",
            "===================================================================================\n"
          ]
        }
      ]
    },
    {
      "cell_type": "code",
      "source": [
        "# Predict probabilities\n",
        "y_train_pred_proba = result.predict(x_train_sm)\n",
        "\n",
        "# Calculate ROC curve\n",
        "fpr, tpr, thresholds = roc_curve(y_train, y_train_pred_proba)\n",
        "roc_auc = auc(fpr, tpr)\n",
        "\n",
        "# Plot ROC curve\n",
        "plt.figure()\n",
        "plt.plot(fpr, tpr, label='Train ROC curve (area = %0.2f)' % roc_auc)\n",
        "plt.plot([0, 1], [0, 1], 'k--')\n",
        "plt.xlabel('False Positive Rate')\n",
        "plt.ylabel('True Positive Rate')\n",
        "plt.title('ROC Curve')\n",
        "plt.legend(loc='best')\n",
        "plt.show()"
      ],
      "metadata": {
        "colab": {
          "base_uri": "https://localhost:8080/",
          "height": 472
        },
        "id": "dXnziO9AYvVq",
        "outputId": "d81e2e21-440f-4715-dcb3-22dfac8f6bb2"
      },
      "execution_count": null,
      "outputs": [
        {
          "output_type": "display_data",
          "data": {
            "text/plain": [
              "<Figure size 640x480 with 1 Axes>"
            ],
            "image/png": "[encoded data removed]"
          },
          "metadata": {}
        }
      ]
    },
    {
      "cell_type": "code",
      "source": [
        "# Classify predictions based on the optimal threshold\n",
        "y_train_pred_class = (y_train_pred_proba >= optimal_threshold).astype(int)\n",
        "\n",
        "# Calculate confusion matrix\n",
        "conf_matrix = confusion_matrix(y_train, y_train_pred_class)\n",
        "sensitivity = conf_matrix[1, 1] / (conf_matrix[1, 0] + conf_matrix[1, 1])\n",
        "specificity = conf_matrix[0, 0] / (conf_matrix[0, 0] + conf_matrix[0, 1])\n",
        "\n",
        "print('Sensitivity:', sensitivity)\n",
        "print('Specificity:', specificity)"
      ],
      "metadata": {
        "colab": {
          "base_uri": "https://localhost:8080/"
        },
        "id": "0zzgjbG-Y_nv",
        "outputId": "bb61cd33-4ddc-4c7e-cd9a-72587095f3a1"
      },
      "execution_count": null,
      "outputs": [
        {
          "output_type": "stream",
          "name": "stdout",
          "text": [
            "Sensitivity: 0.7293577981651376\n",
            "Specificity: 0.712401055408971\n"
          ]
        }
      ]
    },
    {
      "cell_type": "code",
      "source": [
        "class_report = classification_report(y_train, y_train_pred_class)\n",
        "print('Classification Report:')\n",
        "print(class_report)"
      ],
      "metadata": {
        "colab": {
          "base_uri": "https://localhost:8080/"
        },
        "id": "f3S9NUZ7ZTTa",
        "outputId": "92bc5fff-925b-4099-a97d-9991fd9c424e"
      },
      "execution_count": null,
      "outputs": [
        {
          "output_type": "stream",
          "name": "stdout",
          "text": [
            "Classification Report:\n",
            "              precision    recall  f1-score   support\n",
            "\n",
            "           0       0.53      0.71      0.61       379\n",
            "           1       0.85      0.73      0.79       872\n",
            "\n",
            "    accuracy                           0.72      1251\n",
            "   macro avg       0.69      0.72      0.70      1251\n",
            "weighted avg       0.76      0.72      0.73      1251\n",
            "\n"
          ]
        }
      ]
    },
    {
      "cell_type": "markdown",
      "source": [
        "TEST DATA"
      ],
      "metadata": {
        "id": "y7pEK2sgaA5O"
      }
    },
    {
      "cell_type": "code",
      "source": [
        "x_test_sm = sm.add_constant(x_test)\n",
        "\n",
        "# Predict probabilities\n",
        "y_test_pred_proba = result.predict(x_test_sm)\n",
        "\n",
        "# Calculate ROC curve\n",
        "fpr_test, tpr_test, thresholds_test = roc_curve(y_test, y_test_pred_proba)\n",
        "roc_auc_test = auc(fpr_test, tpr_test)\n",
        "\n",
        "# Plot ROC curve\n",
        "plt.figure()\n",
        "plt.plot(fpr_test, tpr_test, label='Test ROC curve (area = %0.2f)' % roc_auc_test)\n",
        "plt.plot([0, 1], [0, 1], 'k--')\n",
        "plt.xlabel('False Positive Rate')\n",
        "plt.ylabel('True Positive Rate')\n",
        "plt.title('ROC Curve')\n",
        "plt.legend(loc='best')\n",
        "plt.show()\n"
      ],
      "metadata": {
        "colab": {
          "base_uri": "https://localhost:8080/",
          "height": 472
        },
        "id": "AnMDWCzBZdde",
        "outputId": "1e3955f9-1128-48b5-957d-8b92eea89424"
      },
      "execution_count": null,
      "outputs": [
        {
          "output_type": "display_data",
          "data": {
            "text/plain": [
              "<Figure size 640x480 with 1 Axes>"
            ],
            "image/png": "[encoded data removed]"
          },
          "metadata": {}
        }
      ]
    },
    {
      "cell_type": "code",
      "source": [
        "# Classify predictions based on the optimal threshold\n",
        "y_test_pred_class = (y_test_pred_proba >= optimal_threshold).astype(int)\n",
        "\n",
        "# Calculate confusion matrix\n",
        "conf_matrix = confusion_matrix(Y_test, y_test_pred_class)\n",
        "sensitivity = conf_matrix[1, 1] / (conf_matrix[1, 0] + conf_matrix[1, 1])\n",
        "specificity = conf_matrix[0, 0] / (conf_matrix[0, 0] + conf_matrix[0, 1])\n",
        "\n",
        "print('Sensitivity:', sensitivity)\n",
        "print('Specificity:', specificity)"
      ],
      "metadata": {
        "colab": {
          "base_uri": "https://localhost:8080/"
        },
        "id": "jEW_qU_Ha7pQ",
        "outputId": "6bf11ee3-e78a-4ff6-a414-26b16ac924e1"
      },
      "execution_count": null,
      "outputs": [
        {
          "output_type": "stream",
          "name": "stdout",
          "text": [
            "Sensitivity: 0.7236180904522613\n",
            "Specificity: 0.7280701754385965\n"
          ]
        }
      ]
    },
    {
      "cell_type": "code",
      "source": [
        "# Print the classification report for test data\n",
        "\n",
        "\n",
        "class_report = classification_report(y_test, y_test_pred_class)\n",
        "print('Classification Report:')\n",
        "print(class_report)"
      ],
      "metadata": {
        "colab": {
          "base_uri": "https://localhost:8080/"
        },
        "id": "dAMOc-lYbEWt",
        "outputId": "da9b24b1-21ac-4603-e6c2-6b26744b32ee"
      },
      "execution_count": null,
      "outputs": [
        {
          "output_type": "stream",
          "name": "stdout",
          "text": [
            "Classification Report:\n",
            "              precision    recall  f1-score   support\n",
            "\n",
            "           0       0.60      0.73      0.66       114\n",
            "           1       0.82      0.72      0.77       199\n",
            "\n",
            "    accuracy                           0.73       313\n",
            "   macro avg       0.71      0.73      0.71       313\n",
            "weighted avg       0.74      0.73      0.73       313\n",
            "\n"
          ]
        }
      ]
    },
    {
      "cell_type": "markdown",
      "source": [
        "Comment:\n",
        "\n",
        "The model with only sigfincant variables performs well i.e the ROC value remains the same 79% however the accuracyies differ slightly: 72% for training data and 73 % for testing data\n",
        "\n",
        "\n",
        "Summary\n",
        "\n",
        "There is a slight improvement in the model when only the significant variables\n",
        "are used"
      ],
      "metadata": {
        "id": "_Iz88AhMbZVt"
      }
    }
  ]
}